{
 "cells": [
  {
   "cell_type": "code",
   "execution_count": 1,
   "id": "c2194ebc-737d-4d45-ba0d-1b7fd30da7a2",
   "metadata": {},
   "outputs": [],
   "source": [
    "import pandas as pd\n",
    "import numpy as np\n",
    "import matplotlib.pyplot as plt\n",
    "%matplotlib inline"
   ]
  },
  {
   "cell_type": "code",
   "execution_count": 7,
   "id": "8f3f1fcf-17ac-472e-906b-0cc58e54c1d2",
   "metadata": {},
   "outputs": [
    {
     "name": "stdout",
     "output_type": "stream",
     "text": [
      "   Unnamed: 0  PassengerId  Survived Pclass  \\\n",
      "0           0            1         0      3   \n",
      "1           1            2         1      1   \n",
      "2           2            3         1      3   \n",
      "3           3            4         1      1   \n",
      "4           4            5         0      3   \n",
      "\n",
      "                                                Name     Sex   Age  SibSp  \\\n",
      "0                            Braund, Mr. Owen Harris    male  22.0      1   \n",
      "1  Cumings, Mrs. John Bradley (Florence Briggs Th...  female  38.0      1   \n",
      "2                             Heikkinen, Miss. Laina  female  26.0      0   \n",
      "3       Futrelle, Mrs. Jacques Heath (Lily May Peel)  female  35.0      1   \n",
      "4                           Allen, Mr. William Henry    male  35.0      0   \n",
      "\n",
      "   Parch            Ticket     Fare Cabin Embarked  \n",
      "0      0         A/5 21171   7.2500   NaN        S  \n",
      "1      0          PC 17599  71.2833   C85        C  \n",
      "2      0  STON/O2. 3101282   7.9250   NaN        S  \n",
      "3      0            113803  53.1000  C123        S  \n",
      "4      0            373450   8.0500   NaN        S  \n"
     ]
    }
   ],
   "source": [
    "df = pd.read_csv('titanic.csv')\n",
    "print(df.head())"
   ]
  },
  {
   "cell_type": "code",
   "execution_count": 4,
   "id": "8a806f29-8396-4c41-8f3a-95c1789c9b44",
   "metadata": {},
   "outputs": [
    {
     "data": {
      "text/plain": [
       "Unnamed: 0     False\n",
       "PassengerId    False\n",
       "Survived       False\n",
       "Pclass         False\n",
       "Name           False\n",
       "Sex            False\n",
       "Age             True\n",
       "SibSp          False\n",
       "Parch          False\n",
       "Ticket         False\n",
       "Fare           False\n",
       "Cabin           True\n",
       "Embarked        True\n",
       "dtype: bool"
      ]
     },
     "execution_count": 4,
     "metadata": {},
     "output_type": "execute_result"
    }
   ],
   "source": [
    "missing_values = df.isnull().any()\n",
    "missing_values\n"
   ]
  },
  {
   "cell_type": "code",
   "execution_count": 6,
   "id": "bb9bc990-e43c-428c-baa5-d0a680d21d75",
   "metadata": {},
   "outputs": [
    {
     "data": {
      "text/plain": [
       "Unnamed: 0       0\n",
       "PassengerId      0\n",
       "Survived         0\n",
       "Pclass           0\n",
       "Name             0\n",
       "Sex              0\n",
       "Age            177\n",
       "SibSp            0\n",
       "Parch            0\n",
       "Ticket           0\n",
       "Fare             0\n",
       "Cabin          687\n",
       "Embarked         2\n",
       "dtype: int64"
      ]
     },
     "execution_count": 6,
     "metadata": {},
     "output_type": "execute_result"
    }
   ],
   "source": [
    "missing_counts = df.isna().sum()\n",
    "missing_counts"
   ]
  },
  {
   "cell_type": "code",
   "execution_count": 8,
   "id": "c2dfc21d-1f98-4f7c-85c9-728170aa1238",
   "metadata": {},
   "outputs": [
    {
     "name": "stdout",
     "output_type": "stream",
     "text": [
      "Percentage of missing values: 77.10%\n"
     ]
    }
   ],
   "source": [
    "missing_percentage = df['Cabin'].isnull().mean() * 100\n",
    "print(f\"Percentage of missing values: {missing_percentage:.2f}%\")"
   ]
  },
  {
   "cell_type": "code",
   "execution_count": 9,
   "id": "ae872a61-fd3c-48ab-bac9-a7acbfb3d4b5",
   "metadata": {},
   "outputs": [
    {
     "name": "stdout",
     "output_type": "stream",
     "text": [
      "Number of unique values: [nan 'C85' 'C123' 'E46' 'G6' 'C103' 'D56' 'A6' 'C23 C25 C27' 'B78' 'D33'\n",
      " 'B30' 'C52' 'B28' 'C83' 'F33' 'F G73' 'E31' 'A5' 'D10 D12' 'D26' 'C110'\n",
      " 'B58 B60' 'E101' 'F E69' 'D47' 'B86' 'F2' 'C2' 'E33' 'B19' 'A7' 'C49'\n",
      " 'F4' 'A32' 'B4' 'B80' 'A31' 'D36' 'D15' 'C93' 'C78' 'D35' 'C87' 'B77'\n",
      " 'E67' 'B94' 'C125' 'C99' 'C118' 'D7' 'A19' 'B49' 'D' 'C22 C26' 'C106'\n",
      " 'C65' 'E36' 'C54' 'B57 B59 B63 B66' 'C7' 'E34' 'C32' 'B18' 'C124' 'C91'\n",
      " 'E40' 'T' 'C128' 'D37' 'B35' 'E50' 'C82' 'B96 B98' 'E10' 'E44' 'A34'\n",
      " 'C104' 'C111' 'C92' 'E38' 'D21' 'E12' 'E63' 'A14' 'B37' 'C30' 'D20' 'B79'\n",
      " 'E25' 'D46' 'B73' 'C95' 'B38' 'B39' 'B22' 'C86' 'C70' 'A16' 'C101' 'C68'\n",
      " 'A10' 'E68' 'B41' 'A20' 'D19' 'D50' 'D9' 'A23' 'B50' 'A26' 'D48' 'E58'\n",
      " 'C126' 'B71' 'B51 B53 B55' 'D49' 'B5' 'B20' 'F G63' 'C62 C64' 'E24' 'C90'\n",
      " 'C45' 'E8' 'B101' 'D45' 'C46' 'D30' 'E121' 'D11' 'E77' 'F38' 'B3' 'D6'\n",
      " 'B82 B84' 'D17' 'A36' 'B102' 'B69' 'E49' 'C47' 'D28' 'E17' 'A24' 'C50'\n",
      " 'B42' 'C148']\n"
     ]
    }
   ],
   "source": [
    "unique_values = df['Cabin'].unique()\n",
    "print(f\"Number of unique values: {unique_values}\")"
   ]
  },
  {
   "cell_type": "code",
   "execution_count": 17,
   "id": "fc2c2ef1-082d-44dc-9496-76378f02a3f2",
   "metadata": {},
   "outputs": [
    {
     "data": {
      "text/plain": [
       "Age            177\n",
       "Embarked         2\n",
       "Unnamed: 0       0\n",
       "PassengerId      0\n",
       "Pclass           0\n",
       "Survived         0\n",
       "Sex              0\n",
       "Name             0\n",
       "SibSp            0\n",
       "Parch            0\n",
       "Ticket           0\n",
       "Fare             0\n",
       "dtype: int64"
      ]
     },
     "execution_count": 17,
     "metadata": {},
     "output_type": "execute_result"
    }
   ],
   "source": [
    "df.drop(columns = [\"Cabin\"], inplace=True , axis=1)\n",
    "df.isnull().sum().sort_values(ascending = False)\n"
   ]
  },
  {
   "cell_type": "code",
   "execution_count": 19,
   "id": "e4f42631-0acc-49e1-a467-e139e72d759b",
   "metadata": {},
   "outputs": [
    {
     "data": {
      "image/png": "[encoded data removed]",
      "text/plain": [
       "<Figure size 1000x600 with 1 Axes>"
      ]
     },
     "metadata": {},
     "output_type": "display_data"
    }
   ],
   "source": [
    "plt.figure(figsize=(10,6))\n",
    "df[\"Age\"].hist(bins=80, edgecolor= \"black\")\n",
    "plt.title('Distribution of Age')\n",
    "plt.xlabel('Age')\n",
    "plt.ylabel('Frequency')\n",
    "plt.show()               "
   ]
  },
  {
   "cell_type": "code",
   "execution_count": 20,
   "id": "05ed7765-095e-43c1-b48e-50eb24bfdb90",
   "metadata": {},
   "outputs": [
    {
     "name": "stdout",
     "output_type": "stream",
     "text": [
      "Mean of Age: 29.70\n",
      "Median of Age: 28.0\n"
     ]
    }
   ],
   "source": [
    "age_mean = df['Age'].mean()\n",
    "age_median = df['Age'].median()\n",
    "print(f\"Mean of Age: {age_mean:.2f}\")\n",
    "print(f\"Median of Age: {age_median}\")"
   ]
  },
  {
   "cell_type": "code",
   "execution_count": 26,
   "id": "b178abdb-0d84-4f55-bb6c-82f06e5c107c",
   "metadata": {},
   "outputs": [
    {
     "data": {
      "text/plain": [
       "<bound method NDFrame.fillna of      Unnamed: 0  PassengerId  Survived Pclass  \\\n",
       "0             0            1         0      3   \n",
       "1             1            2         1      1   \n",
       "2             2            3         1      3   \n",
       "3             3            4         1      1   \n",
       "4             4            5         0      3   \n",
       "..          ...          ...       ...    ...   \n",
       "886         886          887         0      2   \n",
       "887         887          888         1      1   \n",
       "888         888          889         0      ?   \n",
       "889         889          890         1      1   \n",
       "890         890          891         0      3   \n",
       "\n",
       "                                                  Name     Sex   Age  SibSp  \\\n",
       "0                              Braund, Mr. Owen Harris    male  22.0      1   \n",
       "1    Cumings, Mrs. John Bradley (Florence Briggs Th...  female  38.0      1   \n",
       "2                               Heikkinen, Miss. Laina  female  26.0      0   \n",
       "3         Futrelle, Mrs. Jacques Heath (Lily May Peel)  female  35.0      1   \n",
       "4                             Allen, Mr. William Henry    male  35.0      0   \n",
       "..                                                 ...     ...   ...    ...   \n",
       "886                              Montvila, Rev. Juozas    male  27.0      0   \n",
       "887                       Graham, Miss. Margaret Edith  female  19.0      0   \n",
       "888           Johnston, Miss. Catherine Helen \"Carrie\"  female  28.0      1   \n",
       "889                              Behr, Mr. Karl Howell    male  26.0      0   \n",
       "890                                Dooley, Mr. Patrick    male  32.0      0   \n",
       "\n",
       "     Parch            Ticket     Fare Embarked  \n",
       "0        0         A/5 21171   7.2500        S  \n",
       "1        0          PC 17599  71.2833        C  \n",
       "2        0  STON/O2. 3101282   7.9250        S  \n",
       "3        0            113803  53.1000        S  \n",
       "4        0            373450   8.0500        S  \n",
       "..     ...               ...      ...      ...  \n",
       "886      0            211536  13.0000        S  \n",
       "887      0            112053  30.0000        S  \n",
       "888      2        W./C. 6607  23.4500        S  \n",
       "889      0            111369  30.0000        C  \n",
       "890      0            370376   7.7500        Q  \n",
       "\n",
       "[891 rows x 12 columns]>"
      ]
     },
     "execution_count": 26,
     "metadata": {},
     "output_type": "execute_result"
    }
   ],
   "source": [
    "df.fillna({\"Age\" : median_age}, inplace=True)\n",
    "df.fillna"
   ]
  },
  {
   "cell_type": "code",
   "execution_count": 27,
   "id": "ff87058c-df08-4f6d-8d15-cc8e3bf7b48e",
   "metadata": {},
   "outputs": [
    {
     "data": {
      "text/plain": [
       "Unnamed: 0     0\n",
       "PassengerId    0\n",
       "Survived       0\n",
       "Pclass         0\n",
       "Name           0\n",
       "Sex            0\n",
       "Age            0\n",
       "SibSp          0\n",
       "Parch          0\n",
       "Ticket         0\n",
       "Fare           0\n",
       "Embarked       2\n",
       "dtype: int64"
      ]
     },
     "execution_count": 27,
     "metadata": {},
     "output_type": "execute_result"
    }
   ],
   "source": [
    "df.isnull().sum()\n"
   ]
  },
  {
   "cell_type": "code",
   "execution_count": 29,
   "id": "6f5d35be-7934-416b-a687-a548b3a947c3",
   "metadata": {},
   "outputs": [],
   "source": [
    "df.dropna(inplace=True)"
   ]
  },
  {
   "cell_type": "code",
   "execution_count": 30,
   "id": "6ac79972-d169-4b94-a816-f7c140d0f673",
   "metadata": {},
   "outputs": [
    {
     "name": "stdout",
     "output_type": "stream",
     "text": [
      "Unique values in 'Embarked': ['S' 'C' 'Q']\n",
      "Unique values in 'Sex': ['male' 'female']\n",
      "Unique values in 'Pclass': ['3' '1' '2' '?']\n",
      "Unique values in 'Survived': [0 1]\n"
     ]
    }
   ],
   "source": [
    "columns_to_check = ['Embarked', 'Sex', 'Pclass', 'Survived']\n",
    "\n",
    "for column in columns_to_check:\n",
    "    unique_values = df[column].unique()\n",
    "    print(f\"Unique values in '{column}': {unique_values}\")"
   ]
  },
  {
   "cell_type": "code",
   "execution_count": 38,
   "id": "0ff39005-6c4d-41af-8716-6a8bc31c33ae",
   "metadata": {},
   "outputs": [
    {
     "name": "stdout",
     "output_type": "stream",
     "text": [
      "1'Pclass': 48\n"
     ]
    }
   ],
   "source": [
    "column_name = 'Pclass'\n",
    "placeholders = ['?', 'Unknown', '']\n",
    "placeholder_counts = df[column_name].isin(placeholders).sum()\n",
    "print(f\"1'{column_name}': {placeholder_counts}\")"
   ]
  },
  {
   "cell_type": "raw",
   "id": "16b0312e-864c-4844-b2b1-d74f29630ed4",
   "metadata": {},
   "source": [
    "missing_values = df.isnull().any()\n",
    "missing_values"
   ]
  },
  {
   "cell_type": "code",
   "execution_count": 39,
   "id": "e76ad883-87fb-4707-83fc-aa60c6815b65",
   "metadata": {},
   "outputs": [
    {
     "data": {
      "text/plain": [
       "Unnamed: 0     False\n",
       "PassengerId    False\n",
       "Survived       False\n",
       "Pclass         False\n",
       "Name           False\n",
       "Sex            False\n",
       "Age            False\n",
       "SibSp          False\n",
       "Parch          False\n",
       "Ticket         False\n",
       "Fare           False\n",
       "Embarked       False\n",
       "dtype: bool"
      ]
     },
     "execution_count": 39,
     "metadata": {},
     "output_type": "execute_result"
    }
   ],
   "source": [
    "missing_values = df.isnull().any()\n",
    "missing_values"
   ]
  },
  {
   "cell_type": "code",
   "execution_count": null,
   "id": "a89c7a75-70b5-42e6-b5a3-6f3bed8bb922",
   "metadata": {},
   "outputs": [],
   "source": []
  }
 ],
 "metadata": {
  "kernelspec": {
   "display_name": "Python [conda env:learn-env] *",
   "language": "python",
   "name": "conda-env-learn-env-py"
  },
  "language_info": {
   "codemirror_mode": {
    "name": "ipython",
    "version": 3
   },
   "file_extension": ".py",
   "mimetype": "text/x-python",
   "name": "python",
   "nbconvert_exporter": "python",
   "pygments_lexer": "ipython3",
   "version": "3.13.2"
  }
 },
 "nbformat": 4,
 "nbformat_minor": 5
}
